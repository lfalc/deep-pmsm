{
 "cells": [
  {
   "cell_type": "code",
   "execution_count": 4,
   "metadata": {},
   "outputs": [],
   "source": [
    "import pandas as pd\n",
    "from pathlib import Path\n",
    "\n",
    "def clean_data(df):\n",
    "    # Drop column: 'time'\n",
    "    df = df.drop(columns=['time'])\n",
    "    # Rename column 'EM1_D_ID' to 'i_d'\n",
    "    df = df.rename(columns={'EM1_D_ID': 'i_d'})\n",
    "    # Rename column 'EM1_D_IQ' to 'i_q'\n",
    "    df = df.rename(columns={'EM1_D_IQ': 'i_q'})\n",
    "    # Rename column 'EM1_T_ROT_AVG' to 'pm'\n",
    "    df = df.rename(columns={'EM1_T_ROT_AVG': 'pm'})\n",
    "    # Rename column 'EM1_T_W_O' to 'coolant'\n",
    "    df = df.rename(columns={'EM1_T_W_O': 'coolant'})\n",
    "    # Rename column 'EM1_UD' to 'u_d'\n",
    "    df = df.rename(columns={'EM1_UD': 'u_d'})\n",
    "    # Rename column 'EM1_UQ' to 'u_q'\n",
    "    df = df.rename(columns={'EM1_UQ': 'u_q'})\n",
    "    # Rename column 'n' to 'motor_speed'\n",
    "    df = df.rename(columns={'n': 'motor_speed'})\n",
    "    # Rename column 'T_0' to 'ambient'\n",
    "    df = df.rename(columns={'T_0': 'ambient'})\n",
    "    # Change column type to string for columns: 'i_d', 'i_q' and 6 other columns\n",
    "    df = df.astype({'i_d': 'string', 'i_q': 'string', 'pm': 'string', 'coolant': 'string', 'u_d': 'string', 'u_q': 'string', 'motor_speed': 'string', 'ambient': 'string'})\n",
    "    # Replace all instances of \",\" with \".\" in columns: 'i_d', 'i_q' and 6 other columns\n",
    "    df['i_d'] = df['i_d'].str.replace(\",\", \".\", case=False, regex=False)\n",
    "    df['i_q'] = df['i_q'].str.replace(\",\", \".\", case=False, regex=False)\n",
    "    df['pm'] = df['pm'].str.replace(\",\", \".\", case=False, regex=False)\n",
    "    df['coolant'] = df['coolant'].str.replace(\",\", \".\", case=False, regex=False)\n",
    "    df['u_d'] = df['u_d'].str.replace(\",\", \".\", case=False, regex=False)\n",
    "    df['u_q'] = df['u_q'].str.replace(\",\", \".\", case=False, regex=False)\n",
    "    df['motor_speed'] = df['motor_speed'].str.replace(\",\", \".\", case=False, regex=False)\n",
    "    df['ambient'] = df['ambient'].str.replace(\",\", \".\", case=False, regex=False)\n",
    "    # Change column type to float32 for columns: 'i_d', 'i_q' and 6 other columns\n",
    "    df = df.astype({'i_d': 'float32', 'i_q': 'float32', 'pm': 'float32', 'coolant': 'float32', 'u_d': 'float32', 'u_q': 'float32', 'motor_speed': 'float32', 'ambient': 'float32'})\n",
    "    # Created column 'profile_id' from formula\n",
    "    df['profile_id'] = df.index // 1.6e4\n",
    "    return df\n",
    "\n",
    "fpath = Path('./data/input')\n",
    "fname = Path('8h_run.tsv')\n",
    "\n",
    "df = pd.read_csv(fpath/fname, sep='\\t')\n",
    "\n",
    "df_clean = clean_data(df.copy())\n",
    "\n",
    "df_clean.to_csv(fpath / (fname.stem + '.csv'), index=False)\n"
   ]
  }
 ],
 "metadata": {
  "kernelspec": {
   "display_name": "Python 3",
   "language": "python",
   "name": "python3"
  },
  "language_info": {
   "codemirror_mode": {
    "name": "ipython",
    "version": 3
   },
   "file_extension": ".py",
   "mimetype": "text/x-python",
   "name": "python",
   "nbconvert_exporter": "python",
   "pygments_lexer": "ipython3",
   "version": "3.10.12"
  }
 },
 "nbformat": 4,
 "nbformat_minor": 2
}
